{
 "cells": [
  {
   "cell_type": "code",
   "execution_count": 2,
   "id": "22a799dd",
   "metadata": {},
   "outputs": [],
   "source": [
    "def p1(x):\n",
    "    return (x-1)**6"
   ]
  },
  {
   "cell_type": "code",
   "execution_count": 3,
   "id": "9bc53bc5",
   "metadata": {},
   "outputs": [],
   "source": [
    "def p2(x):\n",
    "    return x**6-6*x**5+15*x**4-20*x**3+15*x**2-6*x+1"
   ]
  },
  {
   "cell_type": "code",
   "execution_count": 4,
   "id": "2b2e9970",
   "metadata": {},
   "outputs": [
    {
     "data": {
      "text/plain": [
       "6.400000000000034e-17"
      ]
     },
     "execution_count": 4,
     "metadata": {},
     "output_type": "execute_result"
    }
   ],
   "source": [
    "p1(0.998)"
   ]
  },
  {
   "cell_type": "code",
   "execution_count": 6,
   "id": "f33bbf80",
   "metadata": {},
   "outputs": [
    {
     "data": {
      "text/plain": [
       "17.892215856000004"
      ]
     },
     "execution_count": 6,
     "metadata": {},
     "output_type": "execute_result"
    }
   ],
   "source": [
    "p2(0.998)"
   ]
  },
  {
   "cell_type": "code",
   "execution_count": 7,
   "id": "8dc9ec82",
   "metadata": {},
   "outputs": [
    {
     "data": {
      "text/plain": [
       "17.892215856000004"
      ]
     },
     "execution_count": 7,
     "metadata": {},
     "output_type": "execute_result"
    }
   ],
   "source": [
    "p2(0.998)"
   ]
  },
  {
   "cell_type": "code",
   "execution_count": 17,
   "id": "dd9f7d4c",
   "metadata": {},
   "outputs": [],
   "source": [
    "def horner(a,z):\n",
    "    n= len(a)\n",
    "    result=a[1]\n",
    "    for i in range(2,n):\n",
    "        result = result*z + a[i]\n",
    "    x=result\n",
    "    \n",
    "    print(x)\n",
    "        "
   ]
  },
  {
   "cell_type": "code",
   "execution_count": 9,
   "id": "8da06463",
   "metadata": {},
   "outputs": [
    {
     "data": {
      "text/plain": [
       "<function __main__.p1(x)>"
      ]
     },
     "execution_count": 9,
     "metadata": {},
     "output_type": "execute_result"
    }
   ],
   "source": [
    "p1"
   ]
  },
  {
   "cell_type": "code",
   "execution_count": 11,
   "id": "f84020e4",
   "metadata": {},
   "outputs": [],
   "source": [
    "T=[1, -6, 15, -20, 15, -6, 1]"
   ]
  },
  {
   "cell_type": "code",
   "execution_count": 28,
   "id": "69fa2e5f",
   "metadata": {},
   "outputs": [
    {
     "ename": "TypeError",
     "evalue": "'float' object cannot be interpreted as an integer",
     "output_type": "error",
     "traceback": [
      "\u001b[0;31m---------------------------------------------------------------------------\u001b[0m",
      "\u001b[0;31mTypeError\u001b[0m                                 Traceback (most recent call last)",
      "\u001b[0;32m/tmp/ipykernel_14522/2970135082.py\u001b[0m in \u001b[0;36m<module>\u001b[0;34m\u001b[0m\n\u001b[0;32m----> 1\u001b[0;31m \u001b[0;32mfor\u001b[0m \u001b[0mi\u001b[0m \u001b[0;32min\u001b[0m \u001b[0mrange\u001b[0m\u001b[0;34m(\u001b[0m\u001b[0;36m0.998\u001b[0m\u001b[0;34m,\u001b[0m\u001b[0;36m1.002\u001b[0m\u001b[0;34m,\u001b[0m\u001b[0;36m0.001\u001b[0m\u001b[0;34m)\u001b[0m\u001b[0;34m:\u001b[0m\u001b[0;34m\u001b[0m\u001b[0;34m\u001b[0m\u001b[0m\n\u001b[0m\u001b[1;32m      2\u001b[0m     \u001b[0mprint\u001b[0m\u001b[0;34m(\u001b[0m\u001b[0mfloat\u001b[0m\u001b[0;34m(\u001b[0m\u001b[0mi\u001b[0m\u001b[0;34m)\u001b[0m\u001b[0;34m)\u001b[0m\u001b[0;34m\u001b[0m\u001b[0;34m\u001b[0m\u001b[0m\n",
      "\u001b[0;31mTypeError\u001b[0m: 'float' object cannot be interpreted as an integer"
     ]
    }
   ],
   "source": [
    "for i in range(0.998,1.002,0.001):\n",
    "    print(float(i))"
   ]
  },
  {
   "cell_type": "code",
   "execution_count": 23,
   "id": "7cdae935",
   "metadata": {},
   "outputs": [],
   "source": [
    "def seq(start, stop, step=1):\n",
    "    n = int(round((stop - start)/float(step)))\n",
    "    if n > 1:\n",
    "        return([start + step*i for i in range(n+1)])\n",
    "    elif n == 1:\n",
    "        return([start])\n",
    "    else:\n",
    "        return([])"
   ]
  },
  {
   "cell_type": "code",
   "execution_count": 24,
   "id": "c7db43d4",
   "metadata": {},
   "outputs": [
    {
     "data": {
      "text/plain": [
       "[0.0, 0.5, 1.0, 1.5, 2.0, 2.5, 3.0, 3.5, 4.0, 4.5, 5.0]"
      ]
     },
     "execution_count": 24,
     "metadata": {},
     "output_type": "execute_result"
    }
   ],
   "source": [
    "seq(0,5,0.5)"
   ]
  },
  {
   "cell_type": "code",
   "execution_count": 25,
   "id": "cbeada30",
   "metadata": {},
   "outputs": [
    {
     "data": {
      "text/plain": [
       "[0.998, 0.999, 1.0, 1.001, 1.002]"
      ]
     },
     "execution_count": 25,
     "metadata": {},
     "output_type": "execute_result"
    }
   ],
   "source": [
    "seq(0.998,1.002,0.001)"
   ]
  },
  {
   "cell_type": "code",
   "execution_count": 29,
   "id": "5cbdd589",
   "metadata": {},
   "outputs": [],
   "source": [
    "x= seq(0.998,1.002,0.001)"
   ]
  },
  {
   "cell_type": "code",
   "execution_count": 30,
   "id": "553a9006",
   "metadata": {},
   "outputs": [
    {
     "data": {
      "text/plain": [
       "[0.998, 0.999, 1.0, 1.001, 1.002]"
      ]
     },
     "execution_count": 30,
     "metadata": {},
     "output_type": "execute_result"
    }
   ],
   "source": [
    "x"
   ]
  },
  {
   "cell_type": "code",
   "execution_count": 31,
   "id": "bb390345",
   "metadata": {},
   "outputs": [],
   "source": [
    "x= seq(0.998,1.002,0.0001)"
   ]
  },
  {
   "cell_type": "code",
   "execution_count": 32,
   "id": "904ca698",
   "metadata": {},
   "outputs": [
    {
     "data": {
      "text/plain": [
       "[0.998,\n",
       " 0.9981,\n",
       " 0.9982,\n",
       " 0.9983,\n",
       " 0.9984,\n",
       " 0.9984999999999999,\n",
       " 0.9986,\n",
       " 0.9987,\n",
       " 0.9988,\n",
       " 0.9989,\n",
       " 0.999,\n",
       " 0.9991,\n",
       " 0.9992,\n",
       " 0.9993,\n",
       " 0.9994,\n",
       " 0.9994999999999999,\n",
       " 0.9996,\n",
       " 0.9997,\n",
       " 0.9998,\n",
       " 0.9999,\n",
       " 1.0,\n",
       " 1.0001,\n",
       " 1.0002,\n",
       " 1.0003,\n",
       " 1.0004,\n",
       " 1.0005,\n",
       " 1.0006,\n",
       " 1.0007,\n",
       " 1.0008,\n",
       " 1.0009,\n",
       " 1.001,\n",
       " 1.0011,\n",
       " 1.0012,\n",
       " 1.0013,\n",
       " 1.0014,\n",
       " 1.0015,\n",
       " 1.0016,\n",
       " 1.0017,\n",
       " 1.0018,\n",
       " 1.0019,\n",
       " 1.002]"
      ]
     },
     "execution_count": 32,
     "metadata": {},
     "output_type": "execute_result"
    }
   ],
   "source": [
    "x"
   ]
  },
  {
   "cell_type": "code",
   "execution_count": 33,
   "id": "f257ea1c",
   "metadata": {},
   "outputs": [
    {
     "ename": "NameError",
     "evalue": "name 'plt' is not defined",
     "output_type": "error",
     "traceback": [
      "\u001b[0;31m---------------------------------------------------------------------------\u001b[0m",
      "\u001b[0;31mNameError\u001b[0m                                 Traceback (most recent call last)",
      "\u001b[0;32m/tmp/ipykernel_14522/2334634588.py\u001b[0m in \u001b[0;36m<module>\u001b[0;34m\u001b[0m\n\u001b[0;32m----> 1\u001b[0;31m \u001b[0mplt\u001b[0m\u001b[0;34m(\u001b[0m\u001b[0mx\u001b[0m\u001b[0;34m)\u001b[0m\u001b[0;34m\u001b[0m\u001b[0;34m\u001b[0m\u001b[0m\n\u001b[0m",
      "\u001b[0;31mNameError\u001b[0m: name 'plt' is not defined"
     ]
    }
   ],
   "source": [
    "plt(x)"
   ]
  },
  {
   "cell_type": "code",
   "execution_count": 37,
   "id": "4ab688cb",
   "metadata": {},
   "outputs": [
    {
     "ename": "ModuleNotFoundError",
     "evalue": "No module named 'matplotlib'",
     "output_type": "error",
     "traceback": [
      "\u001b[0;31m---------------------------------------------------------------------------\u001b[0m",
      "\u001b[0;31mModuleNotFoundError\u001b[0m                       Traceback (most recent call last)",
      "\u001b[0;32m/tmp/ipykernel_14522/3954596884.py\u001b[0m in \u001b[0;36m<module>\u001b[0;34m\u001b[0m\n\u001b[0;32m----> 1\u001b[0;31m \u001b[0;32mimport\u001b[0m \u001b[0mmatplotlib\u001b[0m\u001b[0;34m.\u001b[0m\u001b[0mpyplot\u001b[0m \u001b[0;32mas\u001b[0m \u001b[0mplt\u001b[0m\u001b[0;34m\u001b[0m\u001b[0;34m\u001b[0m\u001b[0m\n\u001b[0m\u001b[1;32m      2\u001b[0m \u001b[0mplt\u001b[0m\u001b[0;34m.\u001b[0m\u001b[0mplot\u001b[0m\u001b[0;34m(\u001b[0m\u001b[0mx\u001b[0m\u001b[0;34m)\u001b[0m\u001b[0;34m\u001b[0m\u001b[0;34m\u001b[0m\u001b[0m\n\u001b[1;32m      3\u001b[0m \u001b[0mplt\u001b[0m\u001b[0;34m.\u001b[0m\u001b[0mylabel\u001b[0m\u001b[0;34m(\u001b[0m\u001b[0;34m'some numbers'\u001b[0m\u001b[0;34m)\u001b[0m\u001b[0;34m\u001b[0m\u001b[0;34m\u001b[0m\u001b[0m\n\u001b[1;32m      4\u001b[0m \u001b[0mplt\u001b[0m\u001b[0;34m.\u001b[0m\u001b[0mshow\u001b[0m\u001b[0;34m(\u001b[0m\u001b[0;34m)\u001b[0m\u001b[0;34m\u001b[0m\u001b[0;34m\u001b[0m\u001b[0m\n",
      "\u001b[0;31mModuleNotFoundError\u001b[0m: No module named 'matplotlib'"
     ]
    }
   ],
   "source": [
    "import matplotlib.pyplot as plt\n",
    "plt.plot(x)\n",
    "plt.ylabel('some numbers')\n",
    "plt.show()"
   ]
  },
  {
   "cell_type": "code",
   "execution_count": 38,
   "id": "deb5f64b",
   "metadata": {},
   "outputs": [
    {
     "ename": "ModuleNotFoundError",
     "evalue": "No module named 'matplotlib'",
     "output_type": "error",
     "traceback": [
      "\u001b[0;31m---------------------------------------------------------------------------\u001b[0m",
      "\u001b[0;31mModuleNotFoundError\u001b[0m                       Traceback (most recent call last)",
      "\u001b[0;32m/tmp/ipykernel_14522/2540594342.py\u001b[0m in \u001b[0;36m<module>\u001b[0;34m\u001b[0m\n\u001b[0;32m----> 1\u001b[0;31m \u001b[0;32mimport\u001b[0m \u001b[0mmatplotlib\u001b[0m\u001b[0;34m.\u001b[0m\u001b[0mpyplot\u001b[0m \u001b[0;32mas\u001b[0m \u001b[0mplt\u001b[0m\u001b[0;34m\u001b[0m\u001b[0;34m\u001b[0m\u001b[0m\n\u001b[0m\u001b[1;32m      2\u001b[0m \u001b[0;32mfrom\u001b[0m \u001b[0mnumpy\u001b[0m \u001b[0;32mimport\u001b[0m \u001b[0mlinspace\u001b[0m\u001b[0;34m\u001b[0m\u001b[0;34m\u001b[0m\u001b[0m\n\u001b[1;32m      3\u001b[0m \u001b[0mf\u001b[0m\u001b[0;34m=\u001b[0m\u001b[0;32mlambda\u001b[0m \u001b[0mx\u001b[0m\u001b[0;34m:\u001b[0m \u001b[0mx\u001b[0m\u001b[0;34m**\u001b[0m\u001b[0;36m3\u001b[0m\u001b[0;34m+\u001b[0m\u001b[0mx\u001b[0m\u001b[0;34m**\u001b[0m\u001b[0;36m2\u001b[0m\u001b[0;34m-\u001b[0m\u001b[0;36m3\u001b[0m\u001b[0;34m*\u001b[0m\u001b[0mx\u001b[0m\u001b[0;34m-\u001b[0m\u001b[0;36m3\u001b[0m\u001b[0;34m\u001b[0m\u001b[0;34m\u001b[0m\u001b[0m\n\u001b[1;32m      4\u001b[0m \u001b[0mT\u001b[0m\u001b[0;34m=\u001b[0m\u001b[0mlinspace\u001b[0m\u001b[0;34m(\u001b[0m\u001b[0;34m-\u001b[0m\u001b[0;36m2\u001b[0m\u001b[0;34m,\u001b[0m\u001b[0;36m2\u001b[0m\u001b[0;34m,\u001b[0m\u001b[0;36m41\u001b[0m\u001b[0;34m)\u001b[0m\u001b[0;34m\u001b[0m\u001b[0;34m\u001b[0m\u001b[0m\n\u001b[1;32m      5\u001b[0m \u001b[0mplt\u001b[0m\u001b[0;34m.\u001b[0m\u001b[0mtitle\u001b[0m\u001b[0;34m(\u001b[0m\u001b[0;34m\"solution dans [-2:2] \"\u001b[0m\u001b[0;34m)\u001b[0m\u001b[0;34m;\u001b[0m\u001b[0;34m\u001b[0m\u001b[0;34m\u001b[0m\u001b[0m\n",
      "\u001b[0;31mModuleNotFoundError\u001b[0m: No module named 'matplotlib'"
     ]
    }
   ],
   "source": [
    "import matplotlib.pyplot as plt\n",
    "from numpy import linspace\n",
    "f=lambda x: x**3+x**2-3*x-3\n",
    "T=linspace(-2,2,41)\n",
    "plt.title(\"solution dans [-2:2] \");\n",
    "plt.xlabel(\"x\")\n",
    "plt.ylabel (\"f(x)\")\n",
    "plt.grid(True)\n",
    "plt.plot(T,f(T))"
   ]
  },
  {
   "cell_type": "code",
   "execution_count": null,
   "id": "ba5e8574",
   "metadata": {},
   "outputs": [],
   "source": []
  }
 ],
 "metadata": {
  "kernelspec": {
   "display_name": "Python 3 (ipykernel)",
   "language": "python",
   "name": "python3"
  },
  "language_info": {
   "codemirror_mode": {
    "name": "ipython",
    "version": 3
   },
   "file_extension": ".py",
   "mimetype": "text/x-python",
   "name": "python",
   "nbconvert_exporter": "python",
   "pygments_lexer": "ipython3",
   "version": "3.8.10"
  }
 },
 "nbformat": 4,
 "nbformat_minor": 5
}
