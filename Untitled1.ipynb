{
 "cells": [
  {
   "cell_type": "markdown",
   "id": "de6d924a",
   "metadata": {},
   "source": []
  },
  {
   "cell_type": "markdown",
   "id": "497363a7",
   "metadata": {},
   "source": [
    "##### <center> MINISTERE DE L’ENSEIGNEMENT SUPERIEUR  ET DE LA RECHERCHE SCIENTIFIQUE <br/> UNIVERSITE DE SOUSSE </center>\n",
    "\n",
    " \n",
    "\n",
    "### <center>Institut Supérieur d’Informatique et de Technique de Communication </center>       <center>  <img src=\"https://github.com/aminkammoun/AnalyseNUMERIQUE/blob/master/tp2/isitcom.png\" ></center>     \n",
    "### <center>المعهد العالي للإعلامية و تقنيات الاتصال بحمام سوسة</center>\n",
    "\n",
    " \n",
    "\n",
    "## <center> <div style=\"background-color:lavender;color:steelBlue;padding:1%;text-decoration: underline;\"><font style=\"font-family:italic;\" size=\"12\" >Analyse numérique</div> \n",
    "\n",
    " \n",
    "\n",
    "# <center> <div style=\"text-decoration: underline;\"><font size=\"5\" >TP2:Interpolation Numérique </div> \n",
    "    \n",
    "\n",
    " \n",
    "\n",
    "###  <center> Réalisé par : <br> Amine Kammoun <br> 2DNI1  </center> <hr>\n",
    "\n",
    " \n",
    "\n",
    "#### <center> Année Universitaire 2021 – 2022 </center>\n",
    "\n",
    "<hr>"
   ]
  },
  {
   "cell_type": "code",
   "execution_count": null,
   "id": "6687a8c3",
   "metadata": {},
   "outputs": [],
   "source": []
  }
 ],
 "metadata": {
  "kernelspec": {
   "display_name": "Python 3 (ipykernel)",
   "language": "python",
   "name": "python3"
  },
  "language_info": {
   "codemirror_mode": {
    "name": "ipython",
    "version": 3
   },
   "file_extension": ".py",
   "mimetype": "text/x-python",
   "name": "python",
   "nbconvert_exporter": "python",
   "pygments_lexer": "ipython3",
   "version": "3.8.10"
  }
 },
 "nbformat": 4,
 "nbformat_minor": 5
}
