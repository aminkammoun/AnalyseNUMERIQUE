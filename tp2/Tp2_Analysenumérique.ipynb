{
 "cells": [
  {
   "cell_type": "markdown",
   "metadata": {},
   "source": [
    "\n",
    "##### <center> MINISTERE DE L’ENSEIGNEMENT SUPERIEUR  ET DE LA RECHERCHE SCIENTIFIQUE <br/> UNIVERSITE DE SOUSSE </center>\n",
    "\n",
    " \n",
    "\n",
    "### <center>Institut Supérieur d’Informatique et de Technique de Communication </center>       <center>  <img src=\"./isitcom.png\" ></center>     \n",
    "### <center>المعهد العالي للإعلامية و تقنيات الاتصال بحمام سوسة</center>\n",
    "\n",
    " \n",
    "\n",
    "## <center> <div style=\"background-color:lavender;color:steelBlue;padding:1%;text-decoration: underline;\"><font style=\"font-family:italic;\" size=\"12\" >Analyse numérique</div> \n",
    "\n",
    " \n",
    "\n",
    "# <center> <div style=\"text-decoration: underline;\"><font size=\"5\" >TP2:Interpolation Numérique </div> \n",
    "    \n",
    "\n",
    " \n",
    "\n",
    "###  <center> Réalisé par : <br> Amine Kammoun <br> 2DNI1  </center> <hr>\n",
    "\n",
    " \n",
    "\n",
    "#### <center> Année Universitaire 2021 – 2022 </center>\n",
    "\n",
    "<hr>"
   ]
  },
  {
   "cell_type": "markdown",
   "metadata": {},
   "source": [
    "#  <font color=\"Indigo\"/> Exercice1:"
   ]
  },
  {
   "cell_type": "markdown",
   "metadata": {},
   "source": [
    "## Polynome d'interpolation de Lagrange:\n",
    "\n",
    "Soient $(x_0,y_0), \\ldots,(x_k,y_k),\\ldots ,(x_n,k_n)$ $n+1$ points deux à deux distincts, le polynôme d'interpolation de Lagrange associés à ces points supports est défini par :$$P_n(x)=\\sum_{k=0}^{n-1} y_kL_k(x)$$\n",
    "\n",
    "avec $L_{0}(x)=\\displaystyle\\frac{(x-x_1)(x-x_2)\\ldots(x-x_{n})}{(x_0-x_1)(x_0-x_2)\\ldots(x_0-x_{n})}$ et $L_{k}(x)=\\displaystyle\\frac{(x-x_1)(x-x_2)\\ldots(x-x_{k-1})(x-x_{k+1})\\ldots(x_0-x_{n})}{(x_k-x_0)(x_k-x_1)\\ldots(x_k-x_{k-1})(x_k-x_{k+1})\\ldots(x_k-x_{n})}$ pour $k\\in \\{1,\\ldots,n\\}$"
   ]
  },
  {
   "cell_type": "code",
   "execution_count": 1,
   "metadata": {},
   "outputs": [],
   "source": [
    "from numpy import prod\n",
    "def PR(x,y,c) :\n",
    "    L = [] \n",
    "    S = []\n",
    "    n = len(x)\n",
    "    s=y\n",
    "    for j in range (n):\n",
    "        L =[c-i for i in x]\n",
    "        for k in range (n):\n",
    "            if (k == j):\n",
    "                L[k] = 1\n",
    "            else:\n",
    "                L[k] = L[k]/(x[j] - x[k])\n",
    "        S.append(y[j]*prod(L))\n",
    "\n",
    "    return sum(S)"
   ]
  },
  {
   "cell_type": "code",
   "execution_count": 2,
   "metadata": {},
   "outputs": [
    {
     "name": "stdout",
     "output_type": "stream",
     "text": [
      "30.0\n",
      "-1.0\n",
      "0.0\n",
      "2.0\n",
      "1.0\n"
     ]
    },
    {
     "data": {
      "text/plain": [
       "25"
      ]
     },
     "execution_count": 2,
     "metadata": {},
     "output_type": "execute_result"
    }
   ],
   "source": [
    "X=[15,1,2,3,4];\n",
    "Y=[30,-1,0,2,1];\n",
    "for i in X:\n",
    "    print(PR(X,Y,i))\n",
    "sum(X)"
   ]
  },
  {
   "cell_type": "markdown",
   "metadata": {},
   "source": [
    "1) La fonction PR lorsqu'on lui déclare x=(x(1),x(2),...,x(n))x=(x(1),x(2),...,x(n)) et y=(y(1),y(2),...,y(n))y=(y(1),y(2),...,y(n)) deux vecteurs de même longueur n et c un nombre réel donné,elle renvoie le vecteur $Y=f(x)$"
   ]
  },
  {
   "cell_type": "code",
   "execution_count": 3,
   "metadata": {},
   "outputs": [],
   "source": [
    "x=[1,2,3,4]\n",
    "y=[-1,0,2,1]"
   ]
  },
  {
   "cell_type": "code",
   "execution_count": 4,
   "metadata": {},
   "outputs": [],
   "source": [
    "def PR2 (x,y,c):\n",
    "    S = []\n",
    "    n = len(x)\n",
    "    for c in X:\n",
    "        for j in range (n):\n",
    "            L =[c-xx for xx in x]\n",
    "            for k in range (n):\n",
    "                if (k == j):\n",
    "                    L[k]= 1\n",
    "                else:\n",
    "                    L[k] = L[k]/(x[j] - x[k])\n",
    "            S.append(y[j]*prod(L))\n",
    "     \n",
    "    \n",
    " \n",
    "        return L[3]\n"
   ]
  },
  {
   "cell_type": "code",
   "execution_count": 5,
   "metadata": {},
   "outputs": [
    {
     "name": "stdout",
     "output_type": "stream",
     "text": [
      "1\n",
      "1\n",
      "1\n",
      "1\n"
     ]
    }
   ],
   "source": [
    "for i in x:\n",
    "    print(PR2(x,y,i))"
   ]
  },
  {
   "cell_type": "markdown",
   "metadata": {},
   "source": [
    "2) après la fin de la boucle kk, le vecteur LL contient la base de polynôme d'interpolation de Lagrange\n",
    "$ {L0(x), L1(x), L2(x),L3(x)} $ au points $(x0,y0), (x1,y1), (x2,y2), (x3,y3)$\n",
    "\n"
   ]
  },
  {
   "cell_type": "markdown",
   "metadata": {},
   "source": [
    "3) Utilisation de la fonction PR pour dessiner le graph du polynôme de Lagrange de la fonction $f(x) = \\dfrac{1}{1 + x^2}$ aux points $x=[-1:0.1:1]$ :"
   ]
  },
  {
   "cell_type": "code",
   "execution_count": 6,
   "metadata": {},
   "outputs": [
    {
     "data": {
      "image/png": "[encoded data removed]",
      "text/plain": [
       "<Figure size 432x288 with 1 Axes>"
      ]
     },
     "metadata": {
      "needs_background": "light"
     },
     "output_type": "display_data"
    }
   ],
   "source": [
    "import numpy as np\n",
    "import matplotlib.pyplot as plt\n",
    "x=np.arange(-1,1,0.1)\n",
    "pt=[]\n",
    "f=lambda x: 1/(1+x**2)\n",
    "y=f(x)\n",
    "\n",
    "t=np.linspace(-1,1,100)\n",
    "for u in  range(len(t)):\n",
    "    \n",
    "    pt.append(PR(x,y,t[u]))\n",
    "\n",
    "plt.plot(t,pt,'r',x,y,'bo',t,f(t),'g')\n",
    "plt.show()"
   ]
  },
  {
   "cell_type": "markdown",
   "metadata": {},
   "source": [
    "4) On considère la fonction $F$ suivante :$$\n",
    "F(h) = \\pi -\\cos \\left(\\frac{h}{2}\\right) + h \\sqrt{1-\\left(\\frac{h}{2}\\right)^2}, \\qquad\n",
    "h\\in [0,2],\n",
    "$$et les points d'interpolation $x_i = ih$, $0\\leq i\\leq n$, avec $ n=20$ et $h=0.1$.\n",
    "\n",
    "4.1) Représentation sur le même graphe la fonction $F$ et $p_n$, où $p_n$ est le polynôme d'interpolation de Lagrange de $F$ aux points $x_0,\\,\\ldots,\\,x_n$."
   ]
  },
  {
   "cell_type": "code",
   "execution_count": 7,
   "metadata": {},
   "outputs": [
    {
     "data": {
      "image/png": "[encoded data removed]",
      "text/plain": [
       "<Figure size 432x288 with 1 Axes>"
      ]
     },
     "metadata": {
      "needs_background": "light"
     },
     "output_type": "display_data"
    }
   ],
   "source": [
    "import numpy as np\n",
    "import matplotlib.pyplot as plt\n",
    "import math\n",
    "pt=[]\n",
    "x=np.arange(0,3)\n",
    "f= lambda x:math.pi-math.cos(x/2)+x*math.sqrt(1-(x/2)**2)\n",
    "f_2=np.vectorize(f)\n",
    "y=f_2(x)\n",
    "t=np.linspace(-1,1,100)\n",
    "for i in range(len(t)):\n",
    "    pt.append(PR(x,y,t[i]))\n",
    "plt.plot(t,pt,\"r\",x,y,\"bo\",t,f_2(t),\"g\")\n",
    "plt.show()"
   ]
  },
  {
   "cell_type": "markdown",
   "metadata": {},
   "source": [
    "2)Tracage de la courbe d'erreur (la fonction $F-p_n$)."
   ]
  },
  {
   "cell_type": "code",
   "execution_count": 8,
   "metadata": {},
   "outputs": [
    {
     "data": {
      "image/png": "[encoded data removed]",
      "text/plain": [
       "<Figure size 432x288 with 1 Axes>"
      ]
     },
     "metadata": {
      "needs_background": "light"
     },
     "output_type": "display_data"
    }
   ],
   "source": [
    "plt.plot(t,f_2(t)-pt,\"r\")\n",
    "plt.show()"
   ]
  },
  {
   "cell_type": "markdown",
   "metadata": {},
   "source": [
    "#  <font color=\"Indigo\"/> Exercice2:(Phénomène de Runge)"
   ]
  },
  {
   "cell_type": "markdown",
   "metadata": {},
   "source": [
    "1) Vérification sur $[-5,5]$ le polynôme d'interpolation de Lagrange de la fonction $f$ définie par $f(x)=\\displaystyle{\\frac{1}{1+x^2}}$, en $N$ points uniformément espacés ne convergent pas correctement aux voisinages de $-1$ et $1$, pour $N=7,8,9,10 ...$"
   ]
  },
  {
   "cell_type": "code",
   "execution_count": 9,
   "metadata": {},
   "outputs": [
    {
     "data": {
      "text/plain": [
       "Text(0.5, 1.0, 'Interpolation Equidistante avec N=7')"
      ]
     },
     "execution_count": 9,
     "metadata": {},
     "output_type": "execute_result"
    },
    {
     "data": {
      "image/png": "[encoded data removed]",
      "text/plain": [
       "<Figure size 432x288 with 1 Axes>"
      ]
     },
     "metadata": {
      "needs_background": "light"
     },
     "output_type": "display_data"
    }
   ],
   "source": [
    "import numpy as np\n",
    "import matplotlib.pyplot as plt\n",
    "N=7\n",
    "X=np.linspace(-5,5,N)\n",
    "f=lambda x: 1/(1+x**2)\n",
    "Y=f(X)\n",
    "p=np.polyfit(X,Y,N-1)\n",
    "t=np.linspace(-5,5,1000)\n",
    "plt.subplot(2,2,1)\n",
    "plt.plot(t,f(t),'r',X,Y,'ob', t, np.polyval(p,t),'g')\n",
    "plt.title(\"Interpolation Equidistante avec N=7\")"
   ]
  },
  {
   "cell_type": "code",
   "execution_count": 10,
   "metadata": {},
   "outputs": [
    {
     "data": {
      "text/plain": [
       "Text(0.5, 1.0, 'Interpolation Equidistante avec N=8')"
      ]
     },
     "execution_count": 10,
     "metadata": {},
     "output_type": "execute_result"
    },
    {
     "data": {
      "image/png": "[encoded data removed]",
      "text/plain": [
       "<Figure size 432x288 with 1 Axes>"
      ]
     },
     "metadata": {
      "needs_background": "light"
     },
     "output_type": "display_data"
    }
   ],
   "source": [
    "N=8\n",
    "X=np.linspace(-5,5,N)\n",
    "f=lambda x: 1/(1+x**2)\n",
    "Y=f(X)\n",
    "p=np.polyfit(X,Y,N-1)\n",
    "t=np.linspace(-5,5,1000)\n",
    "plt.subplot(2,2,2)\n",
    "plt.plot(t,f(t),'r',X,Y,'ob', t, np.polyval(p,t),'g')\n",
    "plt.title(\"Interpolation Equidistante avec N=8\")"
   ]
  },
  {
   "cell_type": "code",
   "execution_count": 11,
   "metadata": {},
   "outputs": [
    {
     "data": {
      "text/plain": [
       "Text(0.5, 1.0, 'Interpolation Equidistante avec N=9')"
      ]
     },
     "execution_count": 11,
     "metadata": {},
     "output_type": "execute_result"
    },
    {
     "data": {
      "image/png": "[encoded data removed]",
      "text/plain": [
       "<Figure size 432x288 with 1 Axes>"
      ]
     },
     "metadata": {
      "needs_background": "light"
     },
     "output_type": "display_data"
    }
   ],
   "source": [
    "N=9\n",
    "X=np.linspace(-5,5,N)\n",
    "f=lambda x: 1/(1+x**2)\n",
    "Y=f(X)\n",
    "p=np.polyfit(X,Y,N-1)\n",
    "t=np.linspace(-5,5,1000)\n",
    "plt.subplot(2,2,3)\n",
    "plt.plot(t,f(t),'r',X,Y,'ob', t, np.polyval(p,t),'g')\n",
    "plt.title(\"Interpolation Equidistante avec N=9\")"
   ]
  },
  {
   "cell_type": "code",
   "execution_count": 12,
   "metadata": {},
   "outputs": [
    {
     "data": {
      "text/plain": [
       "Text(0.5, 1.0, 'Interpolation Equidistante avec N=10')"
      ]
     },
     "execution_count": 12,
     "metadata": {},
     "output_type": "execute_result"
    },
    {
     "data": {
      "image/png": "[encoded data removed]",
      "text/plain": [
       "<Figure size 432x288 with 1 Axes>"
      ]
     },
     "metadata": {
      "needs_background": "light"
     },
     "output_type": "display_data"
    }
   ],
   "source": [
    "N=10\n",
    "X=np.linspace(-5,5,N)\n",
    "f=lambda x: 1/(1+x**2)\n",
    "Y=f(X)\n",
    "p=np.polyfit(X,Y,N-1)\n",
    "t=np.linspace(-5,5,1000)\n",
    "plt.subplot(2,2,4)\n",
    "plt.plot(t,f(t),'r',X,Y,'ob', t, np.polyval(p,t),'g')\n",
    "plt.title(\"Interpolation Equidistante avec N=10\")"
   ]
  },
  {
   "cell_type": "markdown",
   "metadata": {},
   "source": [
    "2) Les points de Tchebycheff sur un intervalle $[a;b]$ sont définie par :$$x_k=\\dfrac{a+b}{2}+\\dfrac{a-b}{2}\\cos\\left(\\frac{k-1}{n-1}\\pi\\right)\\hspace{0.5cm} (k=1,..,n: x_1=a:x_n=b)$$\n",
    "\n",
    "Vérification sur $[-5; 5]$ ; l'interpolation polynômiale de $f(x) = \\dfrac{1}{1 + x^2}$ ; en $N$ points de Tchebychev est meilleure qu'une interpolation utilisant $N$ points uniforment espacés (on prendra $N=10, 11, 16, 17$).\n"
   ]
  },
  {
   "cell_type": "code",
   "execution_count": 13,
   "metadata": {},
   "outputs": [],
   "source": [
    "def tcheb(a,b,n):\n",
    "    v=[]\n",
    "    for k in range(n):\n",
    "        v.append((a+b)/2+(a-b)/2*math.cos((k-1)/(n-1)*math.pi))\n",
    "    return v"
   ]
  },
  {
   "cell_type": "code",
   "execution_count": 14,
   "metadata": {},
   "outputs": [
    {
     "data": {
      "text/plain": [
       "[-4.755282581475767,\n",
       " -5.0,\n",
       " -4.755282581475767,\n",
       " -4.045084971874737,\n",
       " -2.938926261462366,\n",
       " -1.5450849718747373,\n",
       " -3.061616997868383e-16,\n",
       " 1.5450849718747368,\n",
       " 2.938926261462365,\n",
       " 4.045084971874736,\n",
       " 4.755282581475767]"
      ]
     },
     "execution_count": 14,
     "metadata": {},
     "output_type": "execute_result"
    }
   ],
   "source": [
    "tcheb(-5,5,11)"
   ]
  },
  {
   "cell_type": "code",
   "execution_count": 15,
   "metadata": {},
   "outputs": [
    {
     "name": "stderr",
     "output_type": "stream",
     "text": [
      "/usr/local/lib/python3.8/dist-packages/IPython/core/interactiveshell.py:3444: RankWarning: Polyfit may be poorly conditioned\n",
      "  exec(code_obj, self.user_global_ns, self.user_ns)\n"
     ]
    },
    {
     "data": {
      "text/plain": [
       "Text(0.5, 1.0, 'Interpolation Tchebycheff avec N=10')"
      ]
     },
     "execution_count": 15,
     "metadata": {},
     "output_type": "execute_result"
    },
    {
     "data": {
      "image/png": "[encoded data removed]",
      "text/plain": [
       "<Figure size 432x288 with 1 Axes>"
      ]
     },
     "metadata": {
      "needs_background": "light"
     },
     "output_type": "display_data"
    }
   ],
   "source": [
    "import numpy as np\n",
    "import matplotlib.pyplot as plt\n",
    "N=10\n",
    "Yt=[]\n",
    "f= lambda x:1/(1+x**2)\n",
    "Xt=tcheb(-5,5,N)\n",
    "for i in Xt:\n",
    "    Yt.append(f(i))\n",
    "pt=np.polyfit(Xt,Yt,N-1)\n",
    "plt.subplot(2,2,1)\n",
    "plt.plot(t,f(t),'r',Xt,Yt,'ob', t, np.polyval(pt,t),'g')\n",
    "plt.title(\"Interpolation Tchebycheff avec N=%i\"%N)"
   ]
  },
  {
   "cell_type": "code",
   "execution_count": 16,
   "metadata": {},
   "outputs": [
    {
     "name": "stderr",
     "output_type": "stream",
     "text": [
      "/usr/local/lib/python3.8/dist-packages/IPython/core/interactiveshell.py:3444: RankWarning: Polyfit may be poorly conditioned\n",
      "  exec(code_obj, self.user_global_ns, self.user_ns)\n"
     ]
    },
    {
     "data": {
      "text/plain": [
       "Text(0.5, 1.0, 'Interpolation Tchebycheff avec N=11')"
      ]
     },
     "execution_count": 16,
     "metadata": {},
     "output_type": "execute_result"
    },
    {
     "data": {
      "image/png": "[encoded data removed]",
      "text/plain": [
       "<Figure size 432x288 with 1 Axes>"
      ]
     },
     "metadata": {
      "needs_background": "light"
     },
     "output_type": "display_data"
    }
   ],
   "source": [
    "N=11\n",
    "Yt=[]\n",
    "f= lambda x:1/(1+x**2)\n",
    "Xt=tcheb(-7,7,N)\n",
    "for i in Xt:\n",
    "    Yt.append(f(i))\n",
    "pt=np.polyfit(Xt,Yt,N)\n",
    "plt.plot(t,f(t),'r',Xt,Yt,'ob', t, np.polyval(pt,t),'g')\n",
    "plt.title(\"Interpolation Tchebycheff avec N=%i\"%N)"
   ]
  },
  {
   "cell_type": "code",
   "execution_count": 17,
   "metadata": {},
   "outputs": [
    {
     "name": "stderr",
     "output_type": "stream",
     "text": [
      "/usr/local/lib/python3.8/dist-packages/IPython/core/interactiveshell.py:3444: RankWarning: Polyfit may be poorly conditioned\n",
      "  exec(code_obj, self.user_global_ns, self.user_ns)\n"
     ]
    },
    {
     "data": {
      "text/plain": [
       "Text(0.5, 1.0, 'Interpolation Tchebycheff avec N=11')"
      ]
     },
     "execution_count": 17,
     "metadata": {},
     "output_type": "execute_result"
    },
    {
     "data": {
      "image/png": "[encoded data removed]",
      "text/plain": [
       "<Figure size 432x288 with 1 Axes>"
      ]
     },
     "metadata": {
      "needs_background": "light"
     },
     "output_type": "display_data"
    }
   ],
   "source": [
    "N=11\n",
    "Yt=[]\n",
    "f= lambda x:1/(1+x**2)\n",
    "Xt=tcheb(-5,5,N)\n",
    "for i in Xt:\n",
    "    Yt.append(f(i))\n",
    "pt=np.polyfit(Xt,Yt,N-1)\n",
    "plt.subplot(2,2,2)\n",
    "plt.plot(t,f(t),'r',Xt,Yt,'ob', t, np.polyval(pt,t),'g')\n",
    "plt.title(\"Interpolation Tchebycheff avec N=%i\"%N)"
   ]
  },
  {
   "cell_type": "code",
   "execution_count": 18,
   "metadata": {},
   "outputs": [
    {
     "name": "stderr",
     "output_type": "stream",
     "text": [
      "/usr/local/lib/python3.8/dist-packages/IPython/core/interactiveshell.py:3444: RankWarning: Polyfit may be poorly conditioned\n",
      "  exec(code_obj, self.user_global_ns, self.user_ns)\n"
     ]
    },
    {
     "data": {
      "text/plain": [
       "Text(0.5, 1.0, 'Interpolation Tchebycheff avec N=16')"
      ]
     },
     "execution_count": 18,
     "metadata": {},
     "output_type": "execute_result"
    },
    {
     "data": {
      "image/png": "[encoded data removed]",
      "text/plain": [
       "<Figure size 432x288 with 1 Axes>"
      ]
     },
     "metadata": {
      "needs_background": "light"
     },
     "output_type": "display_data"
    }
   ],
   "source": [
    "N=16\n",
    "Yt=[]\n",
    "f= lambda x:1/(1+x**2)\n",
    "Xt=tcheb(-5,5,N)\n",
    "for i in Xt:\n",
    "    Yt.append(f(i))\n",
    "pt=np.polyfit(Xt,Yt,N-1)\n",
    "plt.subplot(2,2,3)\n",
    "plt.plot(t,f(t),'r',Xt,Yt,'ob', t, np.polyval(pt,t),'g')\n",
    "plt.title(\"Interpolation Tchebycheff avec N=%i\"%N)\n"
   ]
  },
  {
   "cell_type": "code",
   "execution_count": 19,
   "metadata": {},
   "outputs": [
    {
     "name": "stderr",
     "output_type": "stream",
     "text": [
      "/usr/local/lib/python3.8/dist-packages/IPython/core/interactiveshell.py:3444: RankWarning: Polyfit may be poorly conditioned\n",
      "  exec(code_obj, self.user_global_ns, self.user_ns)\n"
     ]
    },
    {
     "data": {
      "text/plain": [
       "Text(0.5, 1.0, 'Interpolation Tchebycheff avec N=17')"
      ]
     },
     "execution_count": 19,
     "metadata": {},
     "output_type": "execute_result"
    },
    {
     "data": {
      "image/png": "[encoded data removed]",
      "text/plain": [
       "<Figure size 432x288 with 1 Axes>"
      ]
     },
     "metadata": {
      "needs_background": "light"
     },
     "output_type": "display_data"
    }
   ],
   "source": [
    "N=17\n",
    "Yt=[]\n",
    "f= lambda x:1/(1+x**2)\n",
    "Xt=tcheb(-5,5,N)\n",
    "for i in Xt:\n",
    "    Yt.append(f(i))\n",
    "pt=np.polyfit(Xt,Yt,N-1)\n",
    "plt.subplot(2,2,4)\n",
    "plt.plot(t,f(t),'r',Xt,Yt,'ob', t, np.polyval(pt,t),'g')\n",
    "plt.title(\"Interpolation Tchebycheff avec N=%i\"%N)"
   ]
  },
  {
   "cell_type": "markdown",
   "metadata": {},
   "source": [
    "#  <font color=\"Indigo\"/> Exercice3:"
   ]
  },
  {
   "cell_type": "code",
   "execution_count": 20,
   "metadata": {},
   "outputs": [],
   "source": [
    "def intN(x,y):\n",
    "    m=len(x)\n",
    "    f=np.zeros(m)\n",
    "    for k in range(1,m):\n",
    "        f[k:m+1]=np.array(np.array(y[k:m+1])-np.array(y[k-1:m-1]))/np.array(np.array(x[k:m+1])-np.array(x[0:m-k]))\n",
    "    return f\n"
   ]
  },
  {
   "cell_type": "code",
   "execution_count": 21,
   "metadata": {},
   "outputs": [
    {
     "data": {
      "text/plain": [
       "array([ 0.        , -5.        ,  0.66666667, 10.5       ])"
      ]
     },
     "execution_count": 21,
     "metadata": {},
     "output_type": "execute_result"
    }
   ],
   "source": [
    "x=[-1,0,2,5]\n",
    "y=[6,1,3,66]\n",
    "intN(x,y)"
   ]
  },
  {
   "cell_type": "code",
   "execution_count": 22,
   "metadata": {},
   "outputs": [],
   "source": [
    "def intNval(x,y,t):\n",
    "    m=len(x)\n",
    "    p=y[m-1]*np.ones(len(t))\n",
    "    for k in range(m-2,-1,-1):\n",
    "        p=p*np.array((np.array(t)-x[k]))+y[k]\n",
    "    return p\n"
   ]
  },
  {
   "cell_type": "code",
   "execution_count": 23,
   "metadata": {},
   "outputs": [
    {
     "data": {
      "text/plain": [
       "array([   7., -118.,   27.,  838.])"
      ]
     },
     "execution_count": 23,
     "metadata": {},
     "output_type": "execute_result"
    }
   ],
   "source": [
    "x=[-1,0,2,5]\n",
    "y=[6,1,3,66]\n",
    "t=[0,1,2,3]\n",
    "intNval(x,y,t)"
   ]
  },
  {
   "cell_type": "markdown",
   "metadata": {},
   "source": [
    "# 2)\n"
   ]
  },
  {
   "cell_type": "code",
   "execution_count": 24,
   "metadata": {},
   "outputs": [
    {
     "data": {
      "image/png": "[encoded data removed]",
      "text/plain": [
       "<Figure size 432x288 with 1 Axes>"
      ]
     },
     "metadata": {
      "needs_background": "light"
     },
     "output_type": "display_data"
    }
   ],
   "source": [
    "x=[-1,0,2,5]\n",
    "y=[6,1,3,66]\n",
    "f=intN(x,y)\n",
    "plt.plot(x,f,'r',x,y,'ob')\n",
    "plt.show()\n"
   ]
  },
  {
   "cell_type": "markdown",
   "metadata": {},
   "source": [
    "# 3)"
   ]
  },
  {
   "cell_type": "code",
   "execution_count": 25,
   "metadata": {},
   "outputs": [
    {
     "data": {
      "text/plain": [
       "7.0"
      ]
     },
     "execution_count": 25,
     "metadata": {},
     "output_type": "execute_result"
    }
   ],
   "source": [
    "x=[-1,0,2,5]\n",
    "y=[6,1,3,66]\n",
    "t=[0,1,2,3]\n",
    "p=intNval(x,y,t)\n",
    "p[0]"
   ]
  },
  {
   "cell_type": "markdown",
   "metadata": {},
   "source": [
    "# 4) Recalcul de $P(1)$ :"
   ]
  },
  {
   "cell_type": "markdown",
   "metadata": {},
   "source": [
    "$ x=[-1,0,2,5]$\n",
    "$y=[6,1,3,66]$\n",
    "$t=[0,1,2,3]$"
   ]
  },
  {
   "cell_type": "markdown",
   "metadata": {},
   "source": [
    "$p(1)= (t[1]-x[1])+y[1] = (0-(-1))+6 = 1+6 =7 $"
   ]
  },
  {
   "cell_type": "code",
   "execution_count": null,
   "metadata": {},
   "outputs": [],
   "source": []
  },
  {
   "cell_type": "code",
   "execution_count": null,
   "metadata": {},
   "outputs": [],
   "source": []
  },
  {
   "cell_type": "code",
   "execution_count": null,
   "metadata": {},
   "outputs": [],
   "source": []
  },
  {
   "cell_type": "code",
   "execution_count": null,
   "metadata": {},
   "outputs": [],
   "source": []
  }
 ],
 "metadata": {
  "kernelspec": {
   "display_name": "Python 3 (ipykernel)",
   "language": "python",
   "name": "python3"
  },
  "language_info": {
   "codemirror_mode": {
    "name": "ipython",
    "version": 3
   },
   "file_extension": ".py",
   "mimetype": "text/x-python",
   "name": "python",
   "nbconvert_exporter": "python",
   "pygments_lexer": "ipython3",
   "version": "3.8.10"
  }
 },
 "nbformat": 4,
 "nbformat_minor": 4
}
